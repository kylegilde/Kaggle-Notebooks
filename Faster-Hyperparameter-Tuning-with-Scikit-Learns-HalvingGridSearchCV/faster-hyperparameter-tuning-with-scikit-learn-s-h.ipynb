{
 "cells": [
  {
   "cell_type": "markdown",
   "metadata": {},
   "source": [
    "# Faster Hyperparameter Tuning with Scikit-Learn's HalvingGridSearchCV "
   ]
  },
  {
   "cell_type": "markdown",
   "metadata": {},
   "source": [
    "If you are a Scikit-Learn fan, Christmas came a few days early in 2020 with the [release of version 0.24.0](https://scikit-learn.org/dev/auto_examples/release_highlights/plot_release_highlights_0_24_0.html#sphx-glr-auto-examples-release-highlights-plot-release-highlights-0-24-0-py). Among the new features are 2 [experimental](https://scikit-learn.org/dev/glossary.html#term-experimental) classes in the model_selection module that support faster hyperparameter optimization: [HalvingGridSearchCV](https://scikit-learn.org/dev/modules/generated/sklearn.model_selection.HalvingGridSearchCV.html) and [HalvingRandomSearchCV](https://scikit-learn.org/stable/modules/generated/sklearn.model_selection.HalvingRandomSearchCV.html#sklearn.model_selection.HalvingRandomSearchCV). \n",
    "\n",
    "Like their close cousins [GridSearchCV](https://scikit-learn.org/stable/modules/generated/sklearn.model_selection.GridSearchCV.html) and [RandomizedSearchCV](https://scikit-learn.org/stable/modules/generated/sklearn.model_selection.RandomizedSearchCV.html#sklearn.model_selection.RandomizedSearchCV), they use cross-validation to find optimal hyperparameters. However, instead of independently searching the hyperparameter-set candidates, the [successive halving](https://scikit-learn.org/dev/modules/generated/sklearn.model_selection.HalvingGridSearchCV.html) \"search strategy starts evaluating all the candidates with a small amount of resources and iteratively selects the best candidates, using more and more resources.\" The default resource is the number of samples, but the user can set it to any positive-integer model parameter like gradient boosting rounds. Thus, the halving approach has the potential of finding good hyperparameters in less time.\n",
    "\n",
    "\n",
    "## My Experiment\n",
    "\n",
    "After reading through Scikit-Learn's \"[Comparison between grid search and successive halving](https://scikit-learn.org/dev/auto_examples/model_selection/plot_successive_halving_heatmap.html#sphx-glr-auto-examples-model-selection-plot-successive-halving-heatmap-py)\" example (which takes a grand total of 11 seconds to run), I was still unclear about the real-world impact of using the halving approach versus the exhaustive approach, so I decided to set up an experiment to answer the following questions:\n",
    "\n",
    "1. What percentage of time is saved when using HalvingGridSearchCV instead of GridSearchCV?\n",
    "\n",
    "2. Does HalvingGridSearchCV still select the same hyperparameter set that GridSearchCV does?\n",
    "\n",
    "I'm going to run and compare 3 searches: \n",
    "\n",
    "1. GridSearchCV\n",
    "\n",
    "2. HalvingGridSearchCV using the default \"n_samples\" `resource`\n",
    "    \n",
    "3. HalvingGridSearchCV using the CatBoost's \"n_estimators\" as the `resource`\n",
    "\n",
    "\n",
    "### Upgrade Scikit-Learn\n",
    "\n",
    "The first step is to upgrade your version of Scikit to 0.24.0 and make sure you can import the correct version.\n",
    "\n"
   ]
  },
  {
   "cell_type": "code",
   "execution_count": 1,
   "metadata": {},
   "outputs": [
    {
     "name": "stdout",
     "output_type": "stream",
     "text": [
      "0.24.0\n"
     ]
    }
   ],
   "source": [
    "# !! pip install scikit-learn --upgrade\n",
    "import sklearn\n",
    "print(sklearn.__version__)"
   ]
  },
  {
   "cell_type": "markdown",
   "metadata": {},
   "source": [
    "### Loading the Dataset\n",
    "\n",
    "I ran my tests using the [Kaggle's](https://www.kaggle.com/c/house-prices-advanced-regression-techniques/data) Ames, IA house prices dataset. It has 1,460 observatons and 79 features. The dependent variable is the `SalePrice` of the home. I recommend reading [this notebook](https://www.kaggle.com/pmarcelino/comprehensive-data-exploration-with-python) if you are interested in some exploratory data analysis on the dataset."
   ]
  },
  {
   "cell_type": "code",
   "execution_count": 2,
   "metadata": {},
   "outputs": [],
   "source": [
    "import numpy as np  \n",
    "import pandas as pd  \n",
    "\n",
    "DEP_VAR = 'SalePrice'\n",
    "train_df = pd.read_csv('../kaggle/input/house-prices-advanced-regression-techniques/train.csv')\\\n",
    "           .set_index('Id')\n",
    "            \n",
    "y_train = train_df.pop(DEP_VAR)"
   ]
  },
  {
   "cell_type": "markdown",
   "metadata": {},
   "source": [
    "### Creating a Pipeline & Model\n",
    "\n",
    "I also wrote a script called [pipeline_ames.py](https://github.com/kylegilde/Kaggle-Notebooks/blob/master/Faster-Hyperparameter-Tuning-with-Scikit-Learns-HalvingGridSearchCV/pipeline_ames.py). It instantiates a [Pipeline](https://scikit-learn.org/stable/modules/generated/sklearn.pipeline.Pipeline.html) containing some feature transformations and the [CatBoostRegressor](https://catboost.ai/docs/concepts/python-reference_catboostregressor.html). I've ploted its visual representation below. (You can read more about my approach to feature engineering in my [previous post](https://towardsdatascience.com/building-columntransformers-dynamically-1-6354bd08aa54).)"
   ]
  },
  {
   "cell_type": "code",
   "execution_count": 3,
   "metadata": {},
   "outputs": [
    {
     "data": {
      "text/html": [
       "<style>div.sk-top-container {color: black;background-color: white;}div.sk-toggleable {background-color: white;}label.sk-toggleable__label {cursor: pointer;display: block;width: 100%;margin-bottom: 0;padding: 0.2em 0.3em;box-sizing: border-box;text-align: center;}div.sk-toggleable__content {max-height: 0;max-width: 0;overflow: hidden;text-align: left;background-color: #f0f8ff;}div.sk-toggleable__content pre {margin: 0.2em;color: black;border-radius: 0.25em;background-color: #f0f8ff;}input.sk-toggleable__control:checked~div.sk-toggleable__content {max-height: 200px;max-width: 100%;overflow: auto;}div.sk-estimator input.sk-toggleable__control:checked~label.sk-toggleable__label {background-color: #d4ebff;}div.sk-label input.sk-toggleable__control:checked~label.sk-toggleable__label {background-color: #d4ebff;}input.sk-hidden--visually {border: 0;clip: rect(1px 1px 1px 1px);clip: rect(1px, 1px, 1px, 1px);height: 1px;margin: -1px;overflow: hidden;padding: 0;position: absolute;width: 1px;}div.sk-estimator {font-family: monospace;background-color: #f0f8ff;margin: 0.25em 0.25em;border: 1px dotted black;border-radius: 0.25em;box-sizing: border-box;}div.sk-estimator:hover {background-color: #d4ebff;}div.sk-parallel-item::after {content: \"\";width: 100%;border-bottom: 1px solid gray;flex-grow: 1;}div.sk-label:hover label.sk-toggleable__label {background-color: #d4ebff;}div.sk-serial::before {content: \"\";position: absolute;border-left: 1px solid gray;box-sizing: border-box;top: 2em;bottom: 0;left: 50%;}div.sk-serial {display: flex;flex-direction: column;align-items: center;background-color: white;}div.sk-item {z-index: 1;}div.sk-parallel {display: flex;align-items: stretch;justify-content: center;background-color: white;}div.sk-parallel-item {display: flex;flex-direction: column;position: relative;background-color: white;}div.sk-parallel-item:first-child::after {align-self: flex-end;width: 50%;}div.sk-parallel-item:last-child::after {align-self: flex-start;width: 50%;}div.sk-parallel-item:only-child::after {width: 0;}div.sk-dashed-wrapped {border: 1px dashed gray;margin: 0.2em;box-sizing: border-box;padding-bottom: 0.1em;background-color: white;position: relative;}div.sk-label label {font-family: monospace;font-weight: bold;background-color: white;display: inline-block;line-height: 1.2em;}div.sk-label-container {position: relative;z-index: 2;text-align: center;}div.sk-container {display: inline-block;position: relative;}</style><div class=\"sk-top-container\"><div class=\"sk-container\"><div class=\"sk-item sk-dashed-wrapped\"><div class=\"sk-label-container\"><div class=\"sk-label sk-toggleable\"><input class=\"sk-toggleable__control sk-hidden--visually\" id=\"c85ce818-2aa8-4917-9d91-cddbac080e61\" type=\"checkbox\" ><label class=\"sk-toggleable__label\" for=\"c85ce818-2aa8-4917-9d91-cddbac080e61\">Pipeline</label><div class=\"sk-toggleable__content\"><pre>Pipeline(steps=[('column_transformer',\n",
       "                 ColumnTransformer(n_jobs=4,\n",
       "                                   transformers=[('numeric_pipe',\n",
       "                                                  Pipeline(steps=[('functiontransformer',\n",
       "                                                                   FunctionTransformer(func=<function <lambda> at 0x000001742B2B1550>)),\n",
       "                                                                  ('simpleimputer',\n",
       "                                                                   SimpleImputer(add_indicator=True,\n",
       "                                                                                 strategy='median'))]),\n",
       "                                                  <sklearn.compose._column_transformer.make_column_selector object at 0x0000017427F...\n",
       "                                                                   FunctionTransformer(func=<function <lambda> at 0x000001742B2B1550>)),\n",
       "                                                                  ('simpleimputer',\n",
       "                                                                   SimpleImputer(strategy='constant')),\n",
       "                                                                  ('onehotencoder',\n",
       "                                                                   OneHotEncoder(handle_unknown='ignore'))]),\n",
       "                                                  <sklearn.compose._column_transformer.make_column_selector object at 0x000001742C71DCA0>)])),\n",
       "                ('variancethreshold', VarianceThreshold()),\n",
       "                ('model',\n",
       "                 <catboost.core.CatBoostRegressor object at 0x000001742D22B370>)])</pre></div></div></div><div class=\"sk-serial\"><div class=\"sk-item sk-dashed-wrapped\"><div class=\"sk-label-container\"><div class=\"sk-label sk-toggleable\"><input class=\"sk-toggleable__control sk-hidden--visually\" id=\"39cb2198-cbc3-45ac-8a0a-87274498f8c7\" type=\"checkbox\" ><label class=\"sk-toggleable__label\" for=\"39cb2198-cbc3-45ac-8a0a-87274498f8c7\">column_transformer: ColumnTransformer</label><div class=\"sk-toggleable__content\"><pre>ColumnTransformer(n_jobs=4,\n",
       "                  transformers=[('numeric_pipe',\n",
       "                                 Pipeline(steps=[('functiontransformer',\n",
       "                                                  FunctionTransformer(func=<function <lambda> at 0x000001742B2B1550>)),\n",
       "                                                 ('simpleimputer',\n",
       "                                                  SimpleImputer(add_indicator=True,\n",
       "                                                                strategy='median'))]),\n",
       "                                 <sklearn.compose._column_transformer.make_column_selector object at 0x0000017427FCC970>),\n",
       "                                ('oh_pipe',\n",
       "                                 Pipeline(steps=[('functiontransformer',\n",
       "                                                  FunctionTransformer(func=<function <lambda> at 0x000001742B2B1550>)),\n",
       "                                                 ('simpleimputer',\n",
       "                                                  SimpleImputer(strategy='constant')),\n",
       "                                                 ('onehotencoder',\n",
       "                                                  OneHotEncoder(handle_unknown='ignore'))]),\n",
       "                                 <sklearn.compose._column_transformer.make_column_selector object at 0x000001742C71DCA0>)])</pre></div></div></div><div class=\"sk-parallel\"><div class=\"sk-parallel-item\"><div class=\"sk-item\"><div class=\"sk-label-container\"><div class=\"sk-label sk-toggleable\"><input class=\"sk-toggleable__control sk-hidden--visually\" id=\"62e68f31-f40e-4be0-8858-3c72e0d433a0\" type=\"checkbox\" ><label class=\"sk-toggleable__label\" for=\"62e68f31-f40e-4be0-8858-3c72e0d433a0\">numeric_pipe</label><div class=\"sk-toggleable__content\"><pre><sklearn.compose._column_transformer.make_column_selector object at 0x0000017427FCC970></pre></div></div></div><div class=\"sk-serial\"><div class=\"sk-item\"><div class=\"sk-serial\"><div class=\"sk-item\"><div class=\"sk-estimator sk-toggleable\"><input class=\"sk-toggleable__control sk-hidden--visually\" id=\"d44ae776-297e-4202-b99f-48e277dfa261\" type=\"checkbox\" ><label class=\"sk-toggleable__label\" for=\"d44ae776-297e-4202-b99f-48e277dfa261\">FunctionTransformer</label><div class=\"sk-toggleable__content\"><pre>FunctionTransformer(func=<function <lambda> at 0x000001742B2B1550>)</pre></div></div></div><div class=\"sk-item\"><div class=\"sk-estimator sk-toggleable\"><input class=\"sk-toggleable__control sk-hidden--visually\" id=\"12e7c0f8-620c-4eab-bfc2-f2fd1931ba44\" type=\"checkbox\" ><label class=\"sk-toggleable__label\" for=\"12e7c0f8-620c-4eab-bfc2-f2fd1931ba44\">SimpleImputer</label><div class=\"sk-toggleable__content\"><pre>SimpleImputer(add_indicator=True, strategy='median')</pre></div></div></div></div></div></div></div></div><div class=\"sk-parallel-item\"><div class=\"sk-item\"><div class=\"sk-label-container\"><div class=\"sk-label sk-toggleable\"><input class=\"sk-toggleable__control sk-hidden--visually\" id=\"f891d2c4-e4ba-4702-81f9-390a01cdb099\" type=\"checkbox\" ><label class=\"sk-toggleable__label\" for=\"f891d2c4-e4ba-4702-81f9-390a01cdb099\">oh_pipe</label><div class=\"sk-toggleable__content\"><pre><sklearn.compose._column_transformer.make_column_selector object at 0x000001742C71DCA0></pre></div></div></div><div class=\"sk-serial\"><div class=\"sk-item\"><div class=\"sk-serial\"><div class=\"sk-item\"><div class=\"sk-estimator sk-toggleable\"><input class=\"sk-toggleable__control sk-hidden--visually\" id=\"7bd8742a-880e-4679-a41c-ab78d8f05c04\" type=\"checkbox\" ><label class=\"sk-toggleable__label\" for=\"7bd8742a-880e-4679-a41c-ab78d8f05c04\">FunctionTransformer</label><div class=\"sk-toggleable__content\"><pre>FunctionTransformer(func=<function <lambda> at 0x000001742B2B1550>)</pre></div></div></div><div class=\"sk-item\"><div class=\"sk-estimator sk-toggleable\"><input class=\"sk-toggleable__control sk-hidden--visually\" id=\"68a9cac7-b93b-405c-a2ff-66b5668235bb\" type=\"checkbox\" ><label class=\"sk-toggleable__label\" for=\"68a9cac7-b93b-405c-a2ff-66b5668235bb\">SimpleImputer</label><div class=\"sk-toggleable__content\"><pre>SimpleImputer(strategy='constant')</pre></div></div></div><div class=\"sk-item\"><div class=\"sk-estimator sk-toggleable\"><input class=\"sk-toggleable__control sk-hidden--visually\" id=\"174bb378-d67d-4512-bd46-efc6fba2c3c4\" type=\"checkbox\" ><label class=\"sk-toggleable__label\" for=\"174bb378-d67d-4512-bd46-efc6fba2c3c4\">OneHotEncoder</label><div class=\"sk-toggleable__content\"><pre>OneHotEncoder(handle_unknown='ignore')</pre></div></div></div></div></div></div></div></div></div></div><div class=\"sk-item\"><div class=\"sk-estimator sk-toggleable\"><input class=\"sk-toggleable__control sk-hidden--visually\" id=\"8548bd31-247c-4953-9f16-18bc89a552ed\" type=\"checkbox\" ><label class=\"sk-toggleable__label\" for=\"8548bd31-247c-4953-9f16-18bc89a552ed\">VarianceThreshold</label><div class=\"sk-toggleable__content\"><pre>VarianceThreshold()</pre></div></div></div><div class=\"sk-item\"><div class=\"sk-estimator sk-toggleable\"><input class=\"sk-toggleable__control sk-hidden--visually\" id=\"6c3f328f-1408-4383-bc49-e5d375b2312f\" type=\"checkbox\" ><label class=\"sk-toggleable__label\" for=\"6c3f328f-1408-4383-bc49-e5d375b2312f\">CatBoostRegressor</label><div class=\"sk-toggleable__content\"><pre><catboost.core.CatBoostRegressor object at 0x000001742D22B370></pre></div></div></div></div></div></div></div>"
      ],
      "text/plain": [
       "<IPython.core.display.HTML object>"
      ]
     },
     "metadata": {},
     "output_type": "display_data"
    }
   ],
   "source": [
    "from sklearn import set_config                      # to change the display\n",
    "from sklearn.utils import estimator_html_repr       # to save the diagram into HTML format\n",
    "from IPython.core.display import display, HTML      # to visualize pipeline\n",
    "\n",
    "from pipeline_ames import pipe\n",
    "set_config(display='diagram')\n",
    "display(HTML(estimator_html_repr(pipe)))"
   ]
  },
  {
   "cell_type": "markdown",
   "metadata": {},
   "source": [
    "### Experimental Controls \n",
    "\n",
    "The `grid_search_params` dictionary contains the control parameters that were used in each search. I performed 3-fold cross-validation on `param_grid`, which contains 4 [CatBoost hyperparameters](https://catboost.ai/docs/concepts/python-reference_parameters-list.html) with 3 values each. The results were measured in root mean squared log error (RMSLE)."
   ]
  },
  {
   "cell_type": "code",
   "execution_count": 4,
   "metadata": {},
   "outputs": [],
   "source": [
    "from sklearn.metrics import mean_squared_log_error, make_scorer\n",
    "\n",
    "np.random.seed(123) # set a global seed\n",
    "pd.set_option(\"display.precision\", 4)\n",
    "\n",
    "root_mean_squared_log_error = lambda y_true, y_pred: np.sqrt(mean_squared_log_error(y_true, y_pred))\n",
    "scorer = make_scorer(root_mean_squared_log_error, greater_is_better=False)\n",
    "\n",
    "param_grid = {\"model__max_depth\": [5, 6, 7],\n",
    "              'model__learning_rate': [.01, 0.03, .06],\n",
    "              'model__subsample': [.7, .8, .9],\n",
    "              'model__colsample_bylevel': [.8, .9, 1]}\n",
    "\n",
    "grid_search_params = dict(estimator=pipe,\n",
    "                          param_grid=param_grid,\n",
    "                          scoring=scorer,\n",
    "                          cv=3,\n",
    "                          n_jobs=-1,\n",
    "                          verbose=2)"
   ]
  },
  {
   "cell_type": "markdown",
   "metadata": {},
   "source": [
    "## Tests\n",
    "\n",
    "### 1. GridSearchCV"
   ]
  },
  {
   "cell_type": "markdown",
   "metadata": {},
   "source": [
    "The baseline exhaustive grid search took nearly 33 minutes to perform 3-fold cross-validation on our 81 candidates. We will see if the HalvingGridSearchCV process can find the same hyperparameters in less time."
   ]
  },
  {
   "cell_type": "code",
   "execution_count": 5,
   "metadata": {
    "scrolled": false
   },
   "outputs": [
    {
     "name": "stdout",
     "output_type": "stream",
     "text": [
      "Fitting 3 folds for each of 81 candidates, totalling 243 fits\n",
      "Wall time: 32min 53s\n"
     ]
    },
    {
     "data": {
      "text/html": [
       "<div>\n",
       "<style scoped>\n",
       "    .dataframe tbody tr th:only-of-type {\n",
       "        vertical-align: middle;\n",
       "    }\n",
       "\n",
       "    .dataframe tbody tr th {\n",
       "        vertical-align: top;\n",
       "    }\n",
       "\n",
       "    .dataframe thead th {\n",
       "        text-align: right;\n",
       "    }\n",
       "</style>\n",
       "<table border=\"1\" class=\"dataframe\">\n",
       "  <thead>\n",
       "    <tr style=\"text-align: right;\">\n",
       "      <th></th>\n",
       "      <th>model__colsample_bylevel</th>\n",
       "      <th>model__learning_rate</th>\n",
       "      <th>model__max_depth</th>\n",
       "      <th>model__subsample</th>\n",
       "      <th>RMSLE</th>\n",
       "    </tr>\n",
       "  </thead>\n",
       "  <tbody>\n",
       "    <tr>\n",
       "      <th>0</th>\n",
       "      <td>1</td>\n",
       "      <td>0.06</td>\n",
       "      <td>6</td>\n",
       "      <td>0.9</td>\n",
       "      <td>0.1204</td>\n",
       "    </tr>\n",
       "  </tbody>\n",
       "</table>\n",
       "</div>"
      ],
      "text/plain": [
       "   model__colsample_bylevel  model__learning_rate  model__max_depth  \\\n",
       "0                         1                  0.06                 6   \n",
       "\n",
       "   model__subsample   RMSLE  \n",
       "0               0.9  0.1204  "
      ]
     },
     "execution_count": 5,
     "metadata": {},
     "output_type": "execute_result"
    }
   ],
   "source": [
    "%%time\n",
    "from sklearn.model_selection import GridSearchCV\n",
    "full_results = GridSearchCV(**grid_search_params).fit(train_df, y_train)\n",
    "pd.DataFrame(full_results.best_params_, index=[0]).assign(RMSLE=-full_results.best_score_)"
   ]
  },
  {
   "cell_type": "markdown",
   "metadata": {},
   "source": [
    "### 2. HalvingGridSearchCV with n_samples\n",
    "\n",
    "In first halving grid search, I used the following parameters:\n",
    "\n",
    "- The default 'n_samples' for the `resource`: This means that the number of training observations will start out small and increase with each iteration\n",
    "\n",
    "- A `factor` of 2: At the end of an interation, the reciprocal of the `factor` is retained - in this case one half - and all other candidates are thrown out. It also means that the next interation will use twice the number of samples. \n",
    "\n",
    "- One fourth of the training samples for `min_resources`:  I did not use the default `min_resources` calculation of 22 samples because it produced terrible results. \n",
    "\n",
    "Sidenote: If you want the final iteration to use all of the samples, you will need to set  `min_resources` and `factor` to be factors of `max_resources`."
   ]
  },
  {
   "cell_type": "code",
   "execution_count": 6,
   "metadata": {
    "scrolled": true
   },
   "outputs": [
    {
     "name": "stdout",
     "output_type": "stream",
     "text": [
      "n_iterations: 3\n",
      "n_required_iterations: 7\n",
      "n_possible_iterations: 3\n",
      "min_resources_: 365\n",
      "max_resources_: 1460\n",
      "aggressive_elimination: False\n",
      "factor: 2\n",
      "----------\n",
      "iter: 0\n",
      "n_candidates: 81\n",
      "n_resources: 365\n",
      "Fitting 3 folds for each of 81 candidates, totalling 243 fits\n",
      "----------\n",
      "iter: 1\n",
      "n_candidates: 41\n",
      "n_resources: 730\n",
      "Fitting 3 folds for each of 41 candidates, totalling 123 fits\n",
      "----------\n",
      "iter: 2\n",
      "n_candidates: 21\n",
      "n_resources: 1460\n",
      "Fitting 3 folds for each of 21 candidates, totalling 63 fits\n",
      "Wall time: 34min 46s\n"
     ]
    }
   ],
   "source": [
    "%%time\n",
    "\n",
    "from sklearn.experimental import enable_halving_search_cv  \n",
    "from sklearn.model_selection import HalvingGridSearchCV, GridSearchCV\n",
    "FACTOR = 2\n",
    "MAX_RESOURCE_DIVISOR = 4\n",
    "\n",
    "n_samples = len(train_df)\n",
    "halving_results_n_samples =\\\n",
    "    HalvingGridSearchCV(resource='n_samples',\n",
    "                        min_resources=n_samples // MAX_RESOURCE_DIVISOR,\n",
    "                        factor=FACTOR,\n",
    "                        **grid_search_params\n",
    "                        )\\\n",
    "                        .fit(train_df, y_train)"
   ]
  },
  {
   "cell_type": "markdown",
   "metadata": {},
   "source": [
    "This search did not produce good results. It actually took a little longer than the exhaustive search. Using my [`compare_cv_best_params` function](https://github.com/kylegilde/Kaggle-Notebooks/blob/master/Faster-Hyperparameter-Tuning-with-Scikit-Learns-HalvingGridSearchCV/compare_functions.py), we see that it found only the ninth optimal hyperparameter set."
   ]
  },
  {
   "cell_type": "code",
   "execution_count": 20,
   "metadata": {
    "scrolled": false
   },
   "outputs": [
    {
     "data": {
      "text/html": [
       "<style  type=\"text/css\" >\n",
       "    #T_8c545204_5681_11eb_97d5_96e9797c9db5row1_col2 {\n",
       "            background:  pink;\n",
       "        }</style><table id=\"T_8c545204_5681_11eb_97d5_96e9797c9db5\" ><thead>    <tr>        <th class=\"blank level0\" ></th>        <th class=\"col_heading level0 col0\" >index</th>        <th class=\"col_heading level0 col1\" >RMSLE</th>        <th class=\"col_heading level0 col2\" >full_grid_search_rank</th>        <th class=\"col_heading level0 col3\" >model__colsample_bylevel</th>        <th class=\"col_heading level0 col4\" >model__learning_rate</th>        <th class=\"col_heading level0 col5\" >model__max_depth</th>        <th class=\"col_heading level0 col6\" >model__subsample</th>    </tr></thead><tbody>\n",
       "                <tr>\n",
       "                        <th id=\"T_8c545204_5681_11eb_97d5_96e9797c9db5level0_row0\" class=\"row_heading level0 row0\" >0</th>\n",
       "                        <td id=\"T_8c545204_5681_11eb_97d5_96e9797c9db5row0_col0\" class=\"data row0 col0\" >GridSearchCV</td>\n",
       "                        <td id=\"T_8c545204_5681_11eb_97d5_96e9797c9db5row0_col1\" class=\"data row0 col1\" >0.1204</td>\n",
       "                        <td id=\"T_8c545204_5681_11eb_97d5_96e9797c9db5row0_col2\" class=\"data row0 col2\" >nan</td>\n",
       "                        <td id=\"T_8c545204_5681_11eb_97d5_96e9797c9db5row0_col3\" class=\"data row0 col3\" >1</td>\n",
       "                        <td id=\"T_8c545204_5681_11eb_97d5_96e9797c9db5row0_col4\" class=\"data row0 col4\" >0.0600</td>\n",
       "                        <td id=\"T_8c545204_5681_11eb_97d5_96e9797c9db5row0_col5\" class=\"data row0 col5\" >6</td>\n",
       "                        <td id=\"T_8c545204_5681_11eb_97d5_96e9797c9db5row0_col6\" class=\"data row0 col6\" >0.9000</td>\n",
       "            </tr>\n",
       "            <tr>\n",
       "                        <th id=\"T_8c545204_5681_11eb_97d5_96e9797c9db5level0_row1\" class=\"row_heading level0 row1\" >1</th>\n",
       "                        <td id=\"T_8c545204_5681_11eb_97d5_96e9797c9db5row1_col0\" class=\"data row1 col0\" >HalvingGridSearchCV</td>\n",
       "                        <td id=\"T_8c545204_5681_11eb_97d5_96e9797c9db5row1_col1\" class=\"data row1 col1\" >0.1200</td>\n",
       "                        <td id=\"T_8c545204_5681_11eb_97d5_96e9797c9db5row1_col2\" class=\"data row1 col2\" >9.0000</td>\n",
       "                        <td id=\"T_8c545204_5681_11eb_97d5_96e9797c9db5row1_col3\" class=\"data row1 col3\" >1</td>\n",
       "                        <td id=\"T_8c545204_5681_11eb_97d5_96e9797c9db5row1_col4\" class=\"data row1 col4\" >0.0300</td>\n",
       "                        <td id=\"T_8c545204_5681_11eb_97d5_96e9797c9db5row1_col5\" class=\"data row1 col5\" >6</td>\n",
       "                        <td id=\"T_8c545204_5681_11eb_97d5_96e9797c9db5row1_col6\" class=\"data row1 col6\" >0.8000</td>\n",
       "            </tr>\n",
       "    </tbody></table>"
      ],
      "text/plain": [
       "<pandas.io.formats.style.Styler at 0x17427fcc400>"
      ]
     },
     "execution_count": 20,
     "metadata": {},
     "output_type": "execute_result"
    }
   ],
   "source": [
    "from compare_functions import *\n",
    "\n",
    "compare_cv_best_params(full_results, *[halving_results_n_samples])\\\n",
    "    .style.applymap(lambda cell: 'background: pink' if cell == 9 else '')"
   ]
  },
  {
   "cell_type": "markdown",
   "metadata": {},
   "source": [
    "### HalvingGridSearchCV with n_estimators\n",
    " \n",
    "In the second halving search, I used CatBoost's 'n_estimators' as the `resource` and set the first iteration to use a quarter of those estimators. "
   ]
  },
  {
   "cell_type": "code",
   "execution_count": 8,
   "metadata": {
    "scrolled": true
   },
   "outputs": [
    {
     "name": "stdout",
     "output_type": "stream",
     "text": [
      "n_iterations: 3\n",
      "n_required_iterations: 7\n",
      "n_possible_iterations: 3\n",
      "min_resources_: 250\n",
      "max_resources_: 1000\n",
      "aggressive_elimination: False\n",
      "factor: 2\n",
      "----------\n",
      "iter: 0\n",
      "n_candidates: 81\n",
      "n_resources: 250\n",
      "Fitting 3 folds for each of 81 candidates, totalling 243 fits\n",
      "----------\n",
      "iter: 1\n",
      "n_candidates: 41\n",
      "n_resources: 500\n",
      "Fitting 3 folds for each of 41 candidates, totalling 123 fits\n",
      "----------\n",
      "iter: 2\n",
      "n_candidates: 21\n",
      "n_resources: 1000\n",
      "Fitting 3 folds for each of 21 candidates, totalling 63 fits\n",
      "Wall time: 22min 59s\n"
     ]
    }
   ],
   "source": [
    "%%time\n",
    "halving_results_n_estimators =\\\n",
    "    HalvingGridSearchCV(resource='model__n_estimators',                         \n",
    "                         max_resources=1000,\n",
    "                         min_resources=1000 // MAX_RESOURCE_DIVISOR,\n",
    "                         factor=FACTOR,\n",
    "                        **grid_search_params\n",
    "                        )\\\n",
    "                        .fit(train_df, y_train)"
   ]
  },
  {
   "cell_type": "markdown",
   "metadata": {},
   "source": [
    "This halving search produced the results that we were hoping to see. It was about 30% faster than the exhaustive grid search, and it found the best set of hyperparameters."
   ]
  },
  {
   "cell_type": "code",
   "execution_count": 21,
   "metadata": {
    "scrolled": false
   },
   "outputs": [
    {
     "data": {
      "text/html": [
       "<style  type=\"text/css\" >\n",
       "    #T_a74b66e3_569b_11eb_8121_96e9797c9db5row2_col0 {\n",
       "            background:  lightgreen;\n",
       "        }    #T_a74b66e3_569b_11eb_8121_96e9797c9db5row2_col1 {\n",
       "            background:  lightgreen;\n",
       "        }    #T_a74b66e3_569b_11eb_8121_96e9797c9db5row2_col2 {\n",
       "            background:  lightgreen;\n",
       "        }    #T_a74b66e3_569b_11eb_8121_96e9797c9db5row2_col3 {\n",
       "            background:  lightgreen;\n",
       "        }    #T_a74b66e3_569b_11eb_8121_96e9797c9db5row2_col4 {\n",
       "            background:  lightgreen;\n",
       "        }    #T_a74b66e3_569b_11eb_8121_96e9797c9db5row2_col5 {\n",
       "            background:  lightgreen;\n",
       "        }    #T_a74b66e3_569b_11eb_8121_96e9797c9db5row2_col6 {\n",
       "            background:  lightgreen;\n",
       "        }    #T_a74b66e3_569b_11eb_8121_96e9797c9db5row2_col7 {\n",
       "            background:  lightgreen;\n",
       "        }</style><table id=\"T_a74b66e3_569b_11eb_8121_96e9797c9db5\" ><thead>    <tr>        <th class=\"blank level0\" ></th>        <th class=\"col_heading level0 col0\" >index</th>        <th class=\"col_heading level0 col1\" >RMSLE</th>        <th class=\"col_heading level0 col2\" >full_grid_search_rank</th>        <th class=\"col_heading level0 col3\" >model__colsample_bylevel</th>        <th class=\"col_heading level0 col4\" >model__learning_rate</th>        <th class=\"col_heading level0 col5\" >model__max_depth</th>        <th class=\"col_heading level0 col6\" >model__subsample</th>        <th class=\"col_heading level0 col7\" >model__n_estimators</th>    </tr></thead><tbody>\n",
       "                <tr>\n",
       "                        <th id=\"T_a74b66e3_569b_11eb_8121_96e9797c9db5level0_row0\" class=\"row_heading level0 row0\" >0</th>\n",
       "                        <td id=\"T_a74b66e3_569b_11eb_8121_96e9797c9db5row0_col0\" class=\"data row0 col0\" >GridSearchCV</td>\n",
       "                        <td id=\"T_a74b66e3_569b_11eb_8121_96e9797c9db5row0_col1\" class=\"data row0 col1\" >0.1204</td>\n",
       "                        <td id=\"T_a74b66e3_569b_11eb_8121_96e9797c9db5row0_col2\" class=\"data row0 col2\" >nan</td>\n",
       "                        <td id=\"T_a74b66e3_569b_11eb_8121_96e9797c9db5row0_col3\" class=\"data row0 col3\" >1</td>\n",
       "                        <td id=\"T_a74b66e3_569b_11eb_8121_96e9797c9db5row0_col4\" class=\"data row0 col4\" >0.0600</td>\n",
       "                        <td id=\"T_a74b66e3_569b_11eb_8121_96e9797c9db5row0_col5\" class=\"data row0 col5\" >6</td>\n",
       "                        <td id=\"T_a74b66e3_569b_11eb_8121_96e9797c9db5row0_col6\" class=\"data row0 col6\" >0.9000</td>\n",
       "                        <td id=\"T_a74b66e3_569b_11eb_8121_96e9797c9db5row0_col7\" class=\"data row0 col7\" >nan</td>\n",
       "            </tr>\n",
       "            <tr>\n",
       "                        <th id=\"T_a74b66e3_569b_11eb_8121_96e9797c9db5level0_row1\" class=\"row_heading level0 row1\" >1</th>\n",
       "                        <td id=\"T_a74b66e3_569b_11eb_8121_96e9797c9db5row1_col0\" class=\"data row1 col0\" >HalvingGridSearchCV</td>\n",
       "                        <td id=\"T_a74b66e3_569b_11eb_8121_96e9797c9db5row1_col1\" class=\"data row1 col1\" >0.1200</td>\n",
       "                        <td id=\"T_a74b66e3_569b_11eb_8121_96e9797c9db5row1_col2\" class=\"data row1 col2\" >9.0000</td>\n",
       "                        <td id=\"T_a74b66e3_569b_11eb_8121_96e9797c9db5row1_col3\" class=\"data row1 col3\" >1</td>\n",
       "                        <td id=\"T_a74b66e3_569b_11eb_8121_96e9797c9db5row1_col4\" class=\"data row1 col4\" >0.0300</td>\n",
       "                        <td id=\"T_a74b66e3_569b_11eb_8121_96e9797c9db5row1_col5\" class=\"data row1 col5\" >6</td>\n",
       "                        <td id=\"T_a74b66e3_569b_11eb_8121_96e9797c9db5row1_col6\" class=\"data row1 col6\" >0.8000</td>\n",
       "                        <td id=\"T_a74b66e3_569b_11eb_8121_96e9797c9db5row1_col7\" class=\"data row1 col7\" >nan</td>\n",
       "            </tr>\n",
       "            <tr>\n",
       "                        <th id=\"T_a74b66e3_569b_11eb_8121_96e9797c9db5level0_row2\" class=\"row_heading level0 row2\" >2</th>\n",
       "                        <td id=\"T_a74b66e3_569b_11eb_8121_96e9797c9db5row2_col0\" class=\"data row2 col0\" >HalvingGridSearchCV</td>\n",
       "                        <td id=\"T_a74b66e3_569b_11eb_8121_96e9797c9db5row2_col1\" class=\"data row2 col1\" >0.1204</td>\n",
       "                        <td id=\"T_a74b66e3_569b_11eb_8121_96e9797c9db5row2_col2\" class=\"data row2 col2\" >1.0000</td>\n",
       "                        <td id=\"T_a74b66e3_569b_11eb_8121_96e9797c9db5row2_col3\" class=\"data row2 col3\" >1</td>\n",
       "                        <td id=\"T_a74b66e3_569b_11eb_8121_96e9797c9db5row2_col4\" class=\"data row2 col4\" >0.0600</td>\n",
       "                        <td id=\"T_a74b66e3_569b_11eb_8121_96e9797c9db5row2_col5\" class=\"data row2 col5\" >6</td>\n",
       "                        <td id=\"T_a74b66e3_569b_11eb_8121_96e9797c9db5row2_col6\" class=\"data row2 col6\" >0.9000</td>\n",
       "                        <td id=\"T_a74b66e3_569b_11eb_8121_96e9797c9db5row2_col7\" class=\"data row2 col7\" >1000.0000</td>\n",
       "            </tr>\n",
       "    </tbody></table>"
      ],
      "text/plain": [
       "<pandas.io.formats.style.Styler at 0x1742e0fa850>"
      ]
     },
     "execution_count": 21,
     "metadata": {},
     "output_type": "execute_result"
    }
   ],
   "source": [
    "compare_cv_best_params(full_results, *[halving_results_n_samples, \n",
    "                                       halving_results_n_estimators])\\\n",
    "    .style.apply(lambda row: row.apply(lambda col: 'background: lightgreen' if row.name == 2 else ''), axis=1)"
   ]
  },
  {
   "cell_type": "markdown",
   "metadata": {},
   "source": [
    "## Conclusion\n",
    "\n",
    "The results of my HalvingGridSearchCV experiment were mixed. Using the default \"n_samples\" `resource` yielded slow and suboptimal results. If you are using an efficient model like CatBoost, limiting the number of samples may not save you any time. \n",
    "\n",
    "However, using CatBoost's `n_estimators` yielded the optimal results in less time. This tracks with my own experience manually tuning gradient boosting hyperparameters. I can usually tell pretty quickly from the validation logs whether the hyperparameter set is worth fully exploring.\n",
    "\n",
    "The original notebook for this blog post can be found [here](https://www.kaggle.com/kylegilde/extracting-scikit-feature-names-importances). Follow me to stay tuned for further posts on training & regularizing models with Scikit-Learn. Let me know if you found this post helpful. Thanks!"
   ]
  }
 ],
 "metadata": {
  "kernelspec": {
   "display_name": "Python 3",
   "language": "python",
   "name": "python3"
  },
  "language_info": {
   "codemirror_mode": {
    "name": "ipython",
    "version": 3
   },
   "file_extension": ".py",
   "mimetype": "text/x-python",
   "name": "python",
   "nbconvert_exporter": "python",
   "pygments_lexer": "ipython3",
   "version": "3.8.2"
  }
 },
 "nbformat": 4,
 "nbformat_minor": 4
}
