{
 "cells": [
  {
   "cell_type": "code",
   "execution_count": 1,
   "metadata": {
    "scrolled": true
   },
   "outputs": [],
   "source": [
    "# !!pip install catboost --upgrade --user"
   ]
  },
  {
   "cell_type": "code",
   "execution_count": 2,
   "metadata": {},
   "outputs": [
    {
     "data": {
      "text/plain": [
       "'0.24.4'"
      ]
     },
     "execution_count": 2,
     "metadata": {},
     "output_type": "execute_result"
    }
   ],
   "source": [
    "import catboost\n",
    "catboost.__version__"
   ]
  },
  {
   "cell_type": "code",
   "execution_count": 3,
   "metadata": {
    "scrolled": true
   },
   "outputs": [
    {
     "data": {
      "text/plain": [
       "[\"'nvidia-smi' is not recognized as an internal or external command,\",\n",
       " 'operable program or batch file.']"
      ]
     },
     "execution_count": 3,
     "metadata": {},
     "output_type": "execute_result"
    }
   ],
   "source": [
    "!!nvidia-smi"
   ]
  },
  {
   "cell_type": "code",
   "execution_count": 4,
   "metadata": {},
   "outputs": [],
   "source": [
    "from numpy.ma import MaskedArray\n",
    "import sklearn.utils.fixes\n",
    "\n",
    "sklearn.utils.fixes.MaskedArray = MaskedArray \n",
    "\n",
    "import re\n",
    "import time\n",
    "import datetime\n",
    "\n",
    "import numpy as np  \n",
    "import pandas as pd  \n",
    "\n",
    "import plotly.express as px\n",
    "\n",
    "from sklearn.preprocessing import OneHotEncoder\n",
    "from sklearn.impute import SimpleImputer\n",
    "from sklearn.compose import ColumnTransformer, make_column_selector\n",
    "from sklearn.pipeline import make_pipeline, Pipeline\n",
    "from sklearn.feature_selection import SelectPercentile, VarianceThreshold, f_regression\n",
    "import category_encoders as ce\n",
    "from catboost import CatBoostRegressor\n",
    "from xgboost import XGBRegressor\n",
    "\n",
    "import multiprocessing\n",
    "\n",
    "\n",
    "#### globals ####\n",
    "\n",
    "DEP_VAR = 'SalePrice'\n",
    "n_threads = multiprocessing.cpu_count()\n",
    "MAX_OH_CARDINALITY = 10\n",
    "N_ESTIMATORS = 1000\n",
    "SEED = 5\n",
    "\n",
    "\n",
    "#### load data ####\n",
    "\n",
    "train_df = pd.read_csv('../kaggle/input/house-prices-advanced-regression-techniques/train.csv')\\\n",
    "            .set_index('Id')\\\n",
    "            .fillna(np.nan)\n",
    "\n",
    "# split the dependent variable from the features\n",
    "y_train = train_df.pop(DEP_VAR)\n",
    "log_y_train = np.log(y_train)\n",
    "\n",
    "\n",
    "#### create column transformer ####\n",
    "\n",
    "select_numeric_features = make_column_selector(dtype_include=np.number)\n",
    "numeric_pipeline = make_pipeline(SimpleImputer(strategy='median', add_indicator=True))  \n",
    "\n",
    "\n",
    "def select_oh_features(df):\n",
    "\n",
    "    oh_features =\\\n",
    "        df\\\n",
    "        .select_dtypes(['object', 'category'])\\\n",
    "        .apply(lambda col: col.nunique())\\\n",
    "        .loc[lambda x: x <= MAX_OH_CARDINALITY]\\\n",
    "        .index\\\n",
    "        .tolist()\n",
    "\n",
    "    return oh_features\n",
    "\n",
    "\n",
    "oh_pipeline = make_pipeline(SimpleImputer(strategy='constant'), \n",
    "                            OneHotEncoder(handle_unknown='ignore'))\n",
    "\n",
    "def select_hc_features(df):\n",
    "\n",
    "    hc_features =\\\n",
    "        df\\\n",
    "        .select_dtypes(['object', 'category'])\\\n",
    "        .apply(lambda col: col.nunique())\\\n",
    "        .loc[lambda x: x > MAX_OH_CARDINALITY]\\\n",
    "        .index\\\n",
    "        .tolist()\n",
    "\n",
    "    return hc_features\n",
    "\n",
    "hc_pipeline = make_pipeline(ce.GLMMEncoder())\n",
    "\n",
    "\n",
    "column_transformer = ColumnTransformer(transformers=\\\n",
    "                                       [('numeric_pipeline',\n",
    "                                         numeric_pipeline, \n",
    "                                         select_numeric_features),\\\n",
    "                                        ('oh_pipeline', \n",
    "                                         oh_pipeline, \n",
    "                                         select_oh_features),\\\n",
    "                                        ('hc_pipeline', \n",
    "                                         hc_pipeline, \n",
    "                                         select_hc_features)\n",
    "                                       ],\\\n",
    "                                       n_jobs=n_threads,\n",
    "                                       remainder='drop')"
   ]
  },
  {
   "cell_type": "code",
   "execution_count": 5,
   "metadata": {},
   "outputs": [],
   "source": [
    "\n",
    "cat = CatBoostRegressor(thread_count=n_threads, \n",
    "                        n_estimators=N_ESTIMATORS, \n",
    "                        random_state=SEED, \n",
    "                        verbose=False)\n",
    "\n",
    "cat_gpu = CatBoostRegressor(\\\n",
    "                        n_estimators=N_ESTIMATORS, \n",
    "#                         thread_count=n_threads, \n",
    "                        task_type='GPU',\n",
    "                        random_state=SEED, \n",
    "                        verbose=False)\n",
    "\n",
    "\n",
    "\n"
   ]
  },
  {
   "cell_type": "code",
   "execution_count": 6,
   "metadata": {},
   "outputs": [
    {
     "name": "stdout",
     "output_type": "stream",
     "text": [
      "Wall time: 15.4 s\n"
     ]
    }
   ],
   "source": [
    "%%time\n",
    "pipe = Pipeline(steps=[('column_transformer', column_transformer),\\\n",
    "                       ('variancethreshold', VarianceThreshold(threshold=0.0)),\\\n",
    "                       ('selectpercentile', SelectPercentile(f_regression, percentile=90)),\\\n",
    "                       ('model', cat)])\n",
    "\n",
    "_ = pipe.fit(train_df, log_y_train)"
   ]
  },
  {
   "cell_type": "code",
   "execution_count": 7,
   "metadata": {},
   "outputs": [
    {
     "name": "stdout",
     "output_type": "stream",
     "text": [
      "Wall time: 41 s\n"
     ]
    }
   ],
   "source": [
    "%%time\n",
    "pipe = Pipeline(steps=[('column_transformer', column_transformer),\\\n",
    "                       ('variancethreshold', VarianceThreshold(threshold=0.0)),\\\n",
    "                       ('selectpercentile', SelectPercentile(f_regression, percentile=90)),\\\n",
    "                       ('model', cat_gpu)])\n",
    "\n",
    "_ = pipe.fit(train_df, log_y_train)"
   ]
  },
  {
   "cell_type": "markdown",
   "metadata": {},
   "source": [
    "# XGBoost"
   ]
  },
  {
   "cell_type": "code",
   "execution_count": 8,
   "metadata": {},
   "outputs": [],
   "source": [
    "xgb = XGBRegressor(n_jobs=n_threads, \n",
    "                        n_estimators=N_ESTIMATORS, \n",
    "                        random_state=SEED, \n",
    "                        verbose=False)\n",
    "\n",
    "xgb_gpu = XGBRegressor(n_estimators=N_ESTIMATORS, \n",
    "#                         n_jobs=n_threads, \n",
    "                        tree_method='gpu_hist',\n",
    "                        random_state=SEED, \n",
    "                        verbose=False)"
   ]
  },
  {
   "cell_type": "code",
   "execution_count": 9,
   "metadata": {},
   "outputs": [
    {
     "name": "stdout",
     "output_type": "stream",
     "text": [
      "Wall time: 16.4 s\n"
     ]
    }
   ],
   "source": [
    "%%time\n",
    "pipe = Pipeline(steps=[('column_transformer', column_transformer),\\\n",
    "                       ('variancethreshold', VarianceThreshold(threshold=0.0)),\\\n",
    "                       ('selectpercentile', SelectPercentile(f_regression, percentile=90)),\\\n",
    "                       ('model', xgb)])\n",
    "\n",
    "_ = pipe.fit(train_df, log_y_train)"
   ]
  },
  {
   "cell_type": "code",
   "execution_count": 10,
   "metadata": {
    "scrolled": true
   },
   "outputs": [
    {
     "name": "stdout",
     "output_type": "stream",
     "text": [
      "Wall time: 46.9 s\n"
     ]
    }
   ],
   "source": [
    "%%time\n",
    "pipe = Pipeline(steps=[('column_transformer', column_transformer),\\\n",
    "                       ('variancethreshold', VarianceThreshold(threshold=0.0)),\\\n",
    "                       ('selectpercentile', SelectPercentile(f_regression, percentile=90)),\\\n",
    "                       ('model', xgb_gpu)])\n",
    "\n",
    "_ = pipe.fit(train_df, log_y_train)"
   ]
  }
 ],
 "metadata": {
  "kernelspec": {
   "display_name": "Python 3",
   "language": "python",
   "name": "python3"
  },
  "language_info": {
   "codemirror_mode": {
    "name": "ipython",
    "version": 3
   },
   "file_extension": ".py",
   "mimetype": "text/x-python",
   "name": "python",
   "nbconvert_exporter": "python",
   "pygments_lexer": "ipython3",
   "version": "3.8.2"
  }
 },
 "nbformat": 4,
 "nbformat_minor": 4
}
